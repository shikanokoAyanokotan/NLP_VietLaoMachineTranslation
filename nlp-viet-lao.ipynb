{
 "cells": [
  {
   "cell_type": "code",
   "execution_count": 1,
   "id": "1005e5ce",
   "metadata": {
    "_cell_guid": "b1076dfc-b9ad-4769-8c92-a6c4dae69d19",
    "_uuid": "8f2839f25d086af736a60e9eeb907d3b93b6e0e5",
    "execution": {
     "iopub.execute_input": "2025-05-15T07:49:47.533934Z",
     "iopub.status.busy": "2025-05-15T07:49:47.533681Z",
     "iopub.status.idle": "2025-05-15T07:49:51.949218Z",
     "shell.execute_reply": "2025-05-15T07:49:51.948440Z"
    },
    "papermill": {
     "duration": 4.422492,
     "end_time": "2025-05-15T07:49:51.950871",
     "exception": false,
     "start_time": "2025-05-15T07:49:47.528379",
     "status": "completed"
    },
    "tags": []
   },
   "outputs": [
    {
     "name": "stdout",
     "output_type": "stream",
     "text": [
      "\u001b[2K     \u001b[90m━━━━━━━━━━━━━━━━━━━━━━━━━━━━━━━━━━━━━━━━\u001b[0m \u001b[32m51.8/51.8 kB\u001b[0m \u001b[31m2.0 MB/s\u001b[0m eta \u001b[36m0:00:00\u001b[0m\r\n",
      "\u001b[2K   \u001b[90m━━━━━━━━━━━━━━━━━━━━━━━━━━━━━━━━━━━━━━━━\u001b[0m \u001b[32m104.1/104.1 kB\u001b[0m \u001b[31m4.6 MB/s\u001b[0m eta \u001b[36m0:00:00\u001b[0m\r\n",
      "\u001b[?25h"
     ]
    }
   ],
   "source": [
    "# Cài đặt các thư viện cần thiết\n",
    "!pip install -q sacrebleu tokenizers"
   ]
  },
  {
   "cell_type": "code",
   "execution_count": 2,
   "id": "bde08d5d",
   "metadata": {
    "execution": {
     "iopub.execute_input": "2025-05-15T07:49:51.959776Z",
     "iopub.status.busy": "2025-05-15T07:49:51.959519Z",
     "iopub.status.idle": "2025-05-15T07:49:57.730706Z",
     "shell.execute_reply": "2025-05-15T07:49:57.729889Z"
    },
    "papermill": {
     "duration": 5.777057,
     "end_time": "2025-05-15T07:49:57.732030",
     "exception": false,
     "start_time": "2025-05-15T07:49:51.954973",
     "status": "completed"
    },
    "tags": []
   },
   "outputs": [],
   "source": [
    "import torch\n",
    "import torch.nn as nn\n",
    "import torch.optim as optim\n",
    "from torch.amp import GradScaler, autocast\n",
    "from tokenizers import Tokenizer\n",
    "from tokenizers.models import BPE\n",
    "from tokenizers.trainers import BpeTrainer\n",
    "from tokenizers.pre_tokenizers import Whitespace\n",
    "import sacrebleu\n",
    "import time\n",
    "import math\n",
    "import os\n",
    "import matplotlib.pyplot as plt\n",
    "import numpy as np\n",
    "from torch.utils.data import Dataset, DataLoader\n",
    "from tqdm import tqdm\n",
    "from sklearn.model_selection import train_test_split\n",
    "import random"
   ]
  },
  {
   "cell_type": "code",
   "execution_count": 3,
   "id": "d0bc4c91",
   "metadata": {
    "execution": {
     "iopub.execute_input": "2025-05-15T07:49:57.740311Z",
     "iopub.status.busy": "2025-05-15T07:49:57.740002Z",
     "iopub.status.idle": "2025-05-15T07:49:57.829545Z",
     "shell.execute_reply": "2025-05-15T07:49:57.828611Z"
    },
    "papermill": {
     "duration": 0.094849,
     "end_time": "2025-05-15T07:49:57.830749",
     "exception": false,
     "start_time": "2025-05-15T07:49:57.735900",
     "status": "completed"
    },
    "tags": []
   },
   "outputs": [
    {
     "name": "stdout",
     "output_type": "stream",
     "text": [
      "Using device: cuda\n"
     ]
    }
   ],
   "source": [
    "# Cố định seed cho tất cả yếu tố ngẫu nhiên\n",
    "seed = 42\n",
    "random.seed(seed)\n",
    "np.random.seed(seed)\n",
    "torch.manual_seed(seed)\n",
    "torch.cuda.manual_seed(seed)\n",
    "torch.backends.cudnn.deterministic = True\n",
    "torch.backends.cudnn.benchmark = False\n",
    "\n",
    "# Thiết lập thiết bị \n",
    "device = torch.device(\"cuda\" if torch.cuda.is_available() else \"cpu\")\n",
    "print(f\"Using device: {device}\")"
   ]
  },
  {
   "cell_type": "code",
   "execution_count": 4,
   "id": "ed5fac20",
   "metadata": {
    "execution": {
     "iopub.execute_input": "2025-05-15T07:49:57.838807Z",
     "iopub.status.busy": "2025-05-15T07:49:57.838568Z",
     "iopub.status.idle": "2025-05-15T07:49:58.661299Z",
     "shell.execute_reply": "2025-05-15T07:49:58.660584Z"
    },
    "papermill": {
     "duration": 0.828268,
     "end_time": "2025-05-15T07:49:58.662780",
     "exception": false,
     "start_time": "2025-05-15T07:49:57.834512",
     "status": "completed"
    },
    "tags": []
   },
   "outputs": [],
   "source": [
    "# 1. Tiền xử lý dữ liệu\n",
    "def load_parallel_data(vi_path, lo_path):\n",
    "    with open(vi_path, 'r', encoding='utf-8') as vi_file, open(lo_path, 'r', encoding='utf-8') as lo_file:\n",
    "        vi_sentences = [line.strip() for line in vi_file]\n",
    "        lo_sentences = [line.strip() for line in lo_file]\n",
    "    return list(zip(vi_sentences, lo_sentences))\n",
    "\n",
    "# Đọc dữ liệu Train và Dev\n",
    "train_data = load_parallel_data(\n",
    "    \"/kaggle/input/vlsp2023/VLSP2023/Train/train2023.vi\",\n",
    "    \"/kaggle/input/vlsp2023/VLSP2023/Train/train2023.lo\"\n",
    ")\n",
    "dev_data = load_parallel_data(\n",
    "    \"/kaggle/input/vlsp2023/VLSP2023/Dev/dev2023.vi\",\n",
    "    \"/kaggle/input/vlsp2023/VLSP2023/Dev/dev2023.lo\"\n",
    ")"
   ]
  },
  {
   "cell_type": "code",
   "execution_count": 5,
   "id": "7321f7f5",
   "metadata": {
    "execution": {
     "iopub.execute_input": "2025-05-15T07:49:58.671792Z",
     "iopub.status.busy": "2025-05-15T07:49:58.671564Z",
     "iopub.status.idle": "2025-05-15T07:49:58.674734Z",
     "shell.execute_reply": "2025-05-15T07:49:58.674161Z"
    },
    "papermill": {
     "duration": 0.009028,
     "end_time": "2025-05-15T07:49:58.675813",
     "exception": false,
     "start_time": "2025-05-15T07:49:58.666785",
     "status": "completed"
    },
    "tags": []
   },
   "outputs": [],
   "source": [
    "# print(\"First 10 pairs in train_data:\")\n",
    "# for i in range(20):\n",
    "#     print(f\"Vi: {train_data[i][0]}\")\n",
    "#     print(f\"Lo: {train_data[i][1]}\")"
   ]
  },
  {
   "cell_type": "code",
   "execution_count": 6,
   "id": "cd41a13e",
   "metadata": {
    "execution": {
     "iopub.execute_input": "2025-05-15T07:49:58.683713Z",
     "iopub.status.busy": "2025-05-15T07:49:58.683513Z",
     "iopub.status.idle": "2025-05-15T07:50:09.651944Z",
     "shell.execute_reply": "2025-05-15T07:50:09.651018Z"
    },
    "papermill": {
     "duration": 10.973887,
     "end_time": "2025-05-15T07:50:09.653380",
     "exception": false,
     "start_time": "2025-05-15T07:49:58.679493",
     "status": "completed"
    },
    "tags": []
   },
   "outputs": [
    {
     "name": "stdout",
     "output_type": "stream",
     "text": [
      "\n",
      "\n",
      "\n",
      "vi_Tokenizer vocab size: 20000\n",
      "vi_First 10 tokens: ['ÀNG', 'QUẢN', 'DUS', 'UI', 'Bit', '410A', 'Tent', 'trix', '‛', 'Lạm']\n",
      "\n",
      "\n",
      "\n",
      "lo_Tokenizer vocab size: 20000\n",
      "lo_First 10 tokens: ['P', 'ຄອບຄົວ', 'IVE', '§', 'ພະຄໍາພີ', 'ພຽງພໍ', 'ການປິ່ນປົວດ້ວຍ', 'poly', 'Moz', 'ວ່າດ້ວຍ']\n"
     ]
    }
   ],
   "source": [
    "# 2. Huấn luyện hai tokenizer riêng biệt\n",
    "def train_bpe_tokenizer(sentences, vocab_size=20000, file_prefix=\"\"):\n",
    "    if os.path.exists(f\"{file_prefix}corpus.txt\"):\n",
    "        os.remove(f\"{file_prefix}corpus.txt\")\n",
    "    if os.path.exists(f\"{file_prefix}bpe_tokenizer.json\"):\n",
    "        os.remove(f\"{file_prefix}bpe_tokenizer.json\")\n",
    "\n",
    "    tokenizer = Tokenizer(BPE())\n",
    "    tokenizer.pre_tokenizer = Whitespace()\n",
    "    trainer = BpeTrainer(vocab_size=vocab_size, special_tokens=[\"<pad>\", \"<sos>\", \"<eos>\", \"<unk>\"])\n",
    "    with open(f\"{file_prefix}corpus.txt\", \"w\", encoding=\"utf-8\") as f:\n",
    "        for sentence in sentences:\n",
    "            f.write(f\"{sentence}\\n\")\n",
    "    tokenizer.train([f\"{file_prefix}corpus.txt\"], trainer)\n",
    "    tokenizer.save(f\"{file_prefix}bpe_tokenizer.json\")\n",
    "    print(f\"{file_prefix}Tokenizer vocab size:\", tokenizer.get_vocab_size())\n",
    "    print(f\"{file_prefix}First 10 tokens:\", list(tokenizer.get_vocab().keys())[:10])\n",
    "    return tokenizer\n",
    "\n",
    "# Lấy câu tiếng Việt và tiếng Lào từ train_data\n",
    "vi_sentences = [pair[0] for pair in train_data]\n",
    "lo_sentences = [pair[1] for pair in train_data]\n",
    "\n",
    "tokenizer_vi = train_bpe_tokenizer(vi_sentences, file_prefix=\"vi_\")\n",
    "tokenizer_lo = train_bpe_tokenizer(lo_sentences, file_prefix=\"lo_\")"
   ]
  },
  {
   "cell_type": "code",
   "execution_count": 7,
   "id": "8a045b83",
   "metadata": {
    "execution": {
     "iopub.execute_input": "2025-05-15T07:50:09.665498Z",
     "iopub.status.busy": "2025-05-15T07:50:09.664823Z",
     "iopub.status.idle": "2025-05-15T07:50:09.683907Z",
     "shell.execute_reply": "2025-05-15T07:50:09.683233Z"
    },
    "papermill": {
     "duration": 0.025291,
     "end_time": "2025-05-15T07:50:09.685065",
     "exception": false,
     "start_time": "2025-05-15T07:50:09.659774",
     "status": "completed"
    },
    "tags": []
   },
   "outputs": [],
   "source": [
    "# 3. Dataset và Dataloader\n",
    "class TranslationDataset(Dataset):\n",
    "    def __init__(self, data, tokenizer_src, tokenizer_tgt, max_len=128, direction=\"vi2lo\"):\n",
    "        self.data = data\n",
    "        self.tokenizer_src = tokenizer_src\n",
    "        self.tokenizer_tgt = tokenizer_tgt\n",
    "        self.max_len = max_len\n",
    "        self.direction = direction\n",
    "\n",
    "    def __len__(self):\n",
    "        return len(self.data)\n",
    "\n",
    "    def __getitem__(self, idx):\n",
    "        if self.direction == \"vi2lo\":\n",
    "            src_text, tgt_text = self.data[idx]\n",
    "            src_tokens = self.tokenizer_src.encode(src_text).ids  # Tiếng Việt\n",
    "            tgt_tokens = self.tokenizer_tgt.encode(tgt_text).ids  # Tiếng Lào\n",
    "        else:  # direction == \"lo2vi\"\n",
    "            tgt_text, src_text = self.data[idx]\n",
    "            src_tokens = self.tokenizer_src.encode(src_text).ids  # Tiếng Lào\n",
    "            tgt_tokens = self.tokenizer_tgt.encode(tgt_text).ids  # Tiếng Việt\n",
    "        \n",
    "        # Thêm <sos> và <eos>\n",
    "        src_tokens = [self.tokenizer_src.token_to_id(\"<sos>\")] + src_tokens[:self.max_len-2] + [self.tokenizer_src.token_to_id(\"<eos>\")]\n",
    "        tgt_tokens = [self.tokenizer_tgt.token_to_id(\"<sos>\")] + tgt_tokens[:self.max_len-2] + [self.tokenizer_tgt.token_to_id(\"<eos>\")]\n",
    "        \n",
    "        # Padding\n",
    "        src_tokens += [self.tokenizer_src.token_to_id(\"<pad>\")] * (self.max_len - len(src_tokens))\n",
    "        tgt_tokens += [self.tokenizer_tgt.token_to_id(\"<pad>\")] * (self.max_len - len(tgt_tokens))\n",
    "        \n",
    "        return torch.tensor(src_tokens), torch.tensor(tgt_tokens)\n",
    "\n",
    "# Tạo dataloader\n",
    "batch_size = 32\n",
    "train_dataset_vi2lo = TranslationDataset(train_data, tokenizer_vi, tokenizer_lo, direction=\"vi2lo\")\n",
    "dev_dataset_vi2lo = TranslationDataset(dev_data, tokenizer_vi, tokenizer_lo, direction=\"vi2lo\")\n",
    "train_loader_vi2lo = DataLoader(train_dataset_vi2lo, batch_size=batch_size, shuffle=True)\n",
    "dev_loader_vi2lo = DataLoader(dev_dataset_vi2lo, batch_size=batch_size)\n",
    "\n",
    "train_dataset_lo2vi = TranslationDataset(train_data, tokenizer_lo, tokenizer_vi, direction=\"lo2vi\")\n",
    "dev_dataset_lo2vi = TranslationDataset(dev_data, tokenizer_lo, tokenizer_vi, direction=\"lo2vi\")\n",
    "train_loader_lo2vi = DataLoader(train_dataset_lo2vi, batch_size=batch_size, shuffle=True)\n",
    "dev_loader_lo2vi = DataLoader(dev_dataset_lo2vi, batch_size=batch_size)"
   ]
  },
  {
   "cell_type": "code",
   "execution_count": 8,
   "id": "9c2de0ff",
   "metadata": {
    "execution": {
     "iopub.execute_input": "2025-05-15T07:50:09.693714Z",
     "iopub.status.busy": "2025-05-15T07:50:09.693133Z",
     "iopub.status.idle": "2025-05-15T07:50:09.697310Z",
     "shell.execute_reply": "2025-05-15T07:50:09.696835Z"
    },
    "papermill": {
     "duration": 0.009351,
     "end_time": "2025-05-15T07:50:09.698268",
     "exception": false,
     "start_time": "2025-05-15T07:50:09.688917",
     "status": "completed"
    },
    "tags": []
   },
   "outputs": [],
   "source": [
    "# 4. Hàm tạo mask\n",
    "def create_src_mask(src, pad_idx):\n",
    "    mask = (src != pad_idx).unsqueeze(1).unsqueeze(2)\n",
    "    return mask\n",
    "\n",
    "def create_tgt_mask(tgt, pad_idx):\n",
    "    seq_len = tgt.size(1)\n",
    "    pad_mask = (tgt != pad_idx).unsqueeze(1).unsqueeze(2)\n",
    "    nopeak_mask = torch.tril(torch.ones(seq_len, seq_len, device=tgt.device)).bool()\n",
    "    nopeak_mask = nopeak_mask.unsqueeze(0)\n",
    "    mask = pad_mask & nopeak_mask\n",
    "    return mask"
   ]
  },
  {
   "cell_type": "code",
   "execution_count": 9,
   "id": "8f9bd7ec",
   "metadata": {
    "execution": {
     "iopub.execute_input": "2025-05-15T07:50:09.706030Z",
     "iopub.status.busy": "2025-05-15T07:50:09.705842Z",
     "iopub.status.idle": "2025-05-15T07:50:09.711136Z",
     "shell.execute_reply": "2025-05-15T07:50:09.710494Z"
    },
    "papermill": {
     "duration": 0.010271,
     "end_time": "2025-05-15T07:50:09.712127",
     "exception": false,
     "start_time": "2025-05-15T07:50:09.701856",
     "status": "completed"
    },
    "tags": []
   },
   "outputs": [],
   "source": [
    "# 5. Rotary Positional Encoding (RoPE)\n",
    "class RotaryPositionalEncoding(nn.Module):\n",
    "    def __init__(self, d_model, max_len=5000):\n",
    "        super().__init__()\n",
    "        self.d_model = d_model\n",
    "        theta = 10000.0 ** (-2.0 * torch.arange(0, d_model//2, dtype=torch.float) / d_model)\n",
    "        self.register_buffer(\"theta\", theta)\n",
    "        \n",
    "    def forward(self, x, positions=None):\n",
    "        batch_size, seq_len, _ = x.size()\n",
    "        if positions is None:\n",
    "            positions = torch.arange(seq_len, device=x.device).unsqueeze(-1)\n",
    "        \n",
    "        angles = positions * self.theta\n",
    "        sin_angles = torch.sin(angles)\n",
    "        cos_angles = torch.cos(angles)\n",
    "        \n",
    "        x1, x2 = x[..., :self.d_model//2], x[..., self.d_model//2:]\n",
    "        x_rot = torch.cat([\n",
    "            x1 * cos_angles - x2 * sin_angles,\n",
    "            x1 * sin_angles + x2 * cos_angles\n",
    "        ], dim=-1)\n",
    "        return x + x_rot"
   ]
  },
  {
   "cell_type": "code",
   "execution_count": 10,
   "id": "43e1dc3e",
   "metadata": {
    "execution": {
     "iopub.execute_input": "2025-05-15T07:50:09.722854Z",
     "iopub.status.busy": "2025-05-15T07:50:09.722270Z",
     "iopub.status.idle": "2025-05-15T07:50:09.728562Z",
     "shell.execute_reply": "2025-05-15T07:50:09.727884Z"
    },
    "papermill": {
     "duration": 0.013934,
     "end_time": "2025-05-15T07:50:09.729679",
     "exception": false,
     "start_time": "2025-05-15T07:50:09.715745",
     "status": "completed"
    },
    "tags": []
   },
   "outputs": [],
   "source": [
    "# 6. Multi-Head Attention\n",
    "class MultiHeadAttention(nn.Module):\n",
    "    def __init__(self, d_model, num_heads):\n",
    "        super().__init__()\n",
    "        assert d_model % num_heads == 0\n",
    "        self.d_model = d_model\n",
    "        self.d_k = d_model // num_heads\n",
    "        self.num_heads = num_heads\n",
    "        self.q_linear = nn.Linear(d_model, d_model)\n",
    "        self.k_linear = nn.Linear(d_model, d_model)\n",
    "        self.v_linear = nn.Linear(d_model, d_model)\n",
    "        self.out_linear = nn.Linear(d_model, d_model)\n",
    "\n",
    "    def forward(self, q, k, v, mask=None):\n",
    "        batch_size = q.size(0)\n",
    "        \n",
    "        q = self.q_linear(q).view(batch_size, -1, self.num_heads, self.d_k).transpose(1, 2)\n",
    "        k = self.k_linear(k).view(batch_size, -1, self.num_heads, self.d_k).transpose(1, 2)\n",
    "        v = self.v_linear(v).view(batch_size, -1, self.num_heads, self.d_k).transpose(1, 2)\n",
    "        \n",
    "        scores = torch.matmul(q, k.transpose(-2, -1)) / math.sqrt(self.d_k)\n",
    "        if mask is not None:\n",
    "            scores = scores.masked_fill(mask == 0, -1e4)\n",
    "        attn = torch.softmax(scores, dim=-1)\n",
    "        context = torch.matmul(attn, v)\n",
    "        \n",
    "        context = context.transpose(1, 2).contiguous().view(batch_size, -1, self.d_model)\n",
    "        output = self.out_linear(context)\n",
    "        return output"
   ]
  },
  {
   "cell_type": "code",
   "execution_count": 11,
   "id": "1c406703",
   "metadata": {
    "execution": {
     "iopub.execute_input": "2025-05-15T07:50:09.737840Z",
     "iopub.status.busy": "2025-05-15T07:50:09.737447Z",
     "iopub.status.idle": "2025-05-15T07:50:09.741060Z",
     "shell.execute_reply": "2025-05-15T07:50:09.740604Z"
    },
    "papermill": {
     "duration": 0.008661,
     "end_time": "2025-05-15T07:50:09.741974",
     "exception": false,
     "start_time": "2025-05-15T07:50:09.733313",
     "status": "completed"
    },
    "tags": []
   },
   "outputs": [],
   "source": [
    "# 7. Feed-Forward Neural Network\n",
    "class FeedForward(nn.Module):\n",
    "    def __init__(self, d_model, d_ff):\n",
    "        super().__init__()\n",
    "        self.linear1 = nn.Linear(d_model, d_ff)\n",
    "        self.linear2 = nn.Linear(d_ff, d_model)\n",
    "        self.relu = nn.ReLU()\n",
    "\n",
    "    def forward(self, x):\n",
    "        x = self.relu(self.linear1(x))\n",
    "        x = self.linear2(x)\n",
    "        return x"
   ]
  },
  {
   "cell_type": "code",
   "execution_count": 12,
   "id": "e6d1b214",
   "metadata": {
    "execution": {
     "iopub.execute_input": "2025-05-15T07:50:09.750232Z",
     "iopub.status.busy": "2025-05-15T07:50:09.749704Z",
     "iopub.status.idle": "2025-05-15T07:50:09.754046Z",
     "shell.execute_reply": "2025-05-15T07:50:09.753589Z"
    },
    "papermill": {
     "duration": 0.009404,
     "end_time": "2025-05-15T07:50:09.755066",
     "exception": false,
     "start_time": "2025-05-15T07:50:09.745662",
     "status": "completed"
    },
    "tags": []
   },
   "outputs": [],
   "source": [
    "# 8. Encoder Layer\n",
    "class EncoderLayer(nn.Module):\n",
    "    def __init__(self, d_model, num_heads, d_ff, dropout=0.1):\n",
    "        super().__init__()\n",
    "        self.self_attn = MultiHeadAttention(d_model, num_heads)\n",
    "        self.feed_forward = FeedForward(d_model, d_ff)\n",
    "        self.norm1 = nn.LayerNorm(d_model)\n",
    "        self.norm2 = nn.LayerNorm(d_model)\n",
    "        self.dropout = nn.Dropout(dropout)\n",
    "\n",
    "    def forward(self, x, mask=None):\n",
    "        attn_output = self.self_attn(x, x, x, mask)\n",
    "        x = self.norm1(x + self.dropout(attn_output))\n",
    "        ff_output = self.feed_forward(x)\n",
    "        x = self.norm2(x + self.dropout(ff_output))\n",
    "        return x"
   ]
  },
  {
   "cell_type": "code",
   "execution_count": 13,
   "id": "33360a36",
   "metadata": {
    "execution": {
     "iopub.execute_input": "2025-05-15T07:50:09.763362Z",
     "iopub.status.busy": "2025-05-15T07:50:09.762875Z",
     "iopub.status.idle": "2025-05-15T07:50:09.768061Z",
     "shell.execute_reply": "2025-05-15T07:50:09.767430Z"
    },
    "papermill": {
     "duration": 0.010468,
     "end_time": "2025-05-15T07:50:09.769210",
     "exception": false,
     "start_time": "2025-05-15T07:50:09.758742",
     "status": "completed"
    },
    "tags": []
   },
   "outputs": [],
   "source": [
    "# 9. Decoder Layer\n",
    "class DecoderLayer(nn.Module):\n",
    "    def __init__(self, d_model, num_heads, d_ff, dropout=0.1):\n",
    "        super().__init__()\n",
    "        self.self_attn = MultiHeadAttention(d_model, num_heads)\n",
    "        self.cross_attn = MultiHeadAttention(d_model, num_heads)\n",
    "        self.feed_forward = FeedForward(d_model, d_ff)\n",
    "        self.norm1 = nn.LayerNorm(d_model)\n",
    "        self.norm2 = nn.LayerNorm(d_model)\n",
    "        self.norm3 = nn.LayerNorm(d_model)\n",
    "        self.dropout = nn.Dropout(dropout)\n",
    "\n",
    "    def forward(self, x, enc_output, src_mask=None, tgt_mask=None):\n",
    "        attn_output = self.self_attn(x, x, x, tgt_mask)\n",
    "        x = self.norm1(x + self.dropout(attn_output))\n",
    "        attn_output = self.cross_attn(x, enc_output, enc_output, src_mask)\n",
    "        x = self.norm2(x + self.dropout(attn_output))\n",
    "        ff_output = self.feed_forward(x)\n",
    "        x = self.norm3(x + self.dropout(ff_output))\n",
    "        return x"
   ]
  },
  {
   "cell_type": "code",
   "execution_count": 14,
   "id": "0aff49d4",
   "metadata": {
    "execution": {
     "iopub.execute_input": "2025-05-15T07:50:09.777833Z",
     "iopub.status.busy": "2025-05-15T07:50:09.777456Z",
     "iopub.status.idle": "2025-05-15T07:50:09.783455Z",
     "shell.execute_reply": "2025-05-15T07:50:09.782782Z"
    },
    "papermill": {
     "duration": 0.011749,
     "end_time": "2025-05-15T07:50:09.784567",
     "exception": false,
     "start_time": "2025-05-15T07:50:09.772818",
     "status": "completed"
    },
    "tags": []
   },
   "outputs": [],
   "source": [
    "# 10. Transformer Model\n",
    "class Transformer(nn.Module):\n",
    "    def __init__(self, src_vocab_size, tgt_vocab_size, d_model, num_heads, num_layers, d_ff, max_len=128, dropout=0.1):\n",
    "        super().__init__()\n",
    "        self.encoder_embedding = nn.Embedding(src_vocab_size, d_model)\n",
    "        self.decoder_embedding = nn.Embedding(tgt_vocab_size, d_model)\n",
    "        self.positional_encoding = RotaryPositionalEncoding(d_model, max_len)\n",
    "        self.encoder_layers = nn.ModuleList([EncoderLayer(d_model, num_heads, d_ff, dropout) for _ in range(num_layers)])\n",
    "        self.decoder_layers = nn.ModuleList([DecoderLayer(d_model, num_heads, d_ff, dropout) for _ in range(num_layers)])\n",
    "        self.fc = nn.Linear(d_model, tgt_vocab_size)\n",
    "        self.dropout = nn.Dropout(dropout)\n",
    "\n",
    "    def forward(self, src, tgt, src_mask=None, tgt_mask=None):\n",
    "        src_embedded = self.dropout(self.positional_encoding(self.encoder_embedding(src)))\n",
    "        enc_output = src_embedded\n",
    "        for enc_layer in self.encoder_layers:\n",
    "            enc_output = enc_layer(enc_output, src_mask)\n",
    "\n",
    "        tgt_embedded = self.dropout(self.positional_encoding(self.decoder_embedding(tgt)))\n",
    "        dec_output = tgt_embedded\n",
    "        for dec_layer in self.decoder_layers:\n",
    "            dec_output = dec_layer(dec_output, enc_output, src_mask, tgt_mask)\n",
    "\n",
    "        output = self.fc(dec_output)\n",
    "        return output"
   ]
  },
  {
   "cell_type": "code",
   "execution_count": 15,
   "id": "3047069d",
   "metadata": {
    "execution": {
     "iopub.execute_input": "2025-05-15T07:50:09.792581Z",
     "iopub.status.busy": "2025-05-15T07:50:09.792174Z",
     "iopub.status.idle": "2025-05-15T07:50:09.799054Z",
     "shell.execute_reply": "2025-05-15T07:50:09.798430Z"
    },
    "papermill": {
     "duration": 0.011918,
     "end_time": "2025-05-15T07:50:09.800037",
     "exception": false,
     "start_time": "2025-05-15T07:50:09.788119",
     "status": "completed"
    },
    "tags": []
   },
   "outputs": [],
   "source": [
    "# 11. Batch Beam Search\n",
    "def batch_beam_search(model, src, tokenizer_src, tokenizer_tgt, beam_size=3, max_len=128):\n",
    "    model.eval()\n",
    "    batch_size = src.size(0)\n",
    "    src = src.to(device)\n",
    "    src_mask = create_src_mask(src, tokenizer_src.token_to_id(\"<pad>\"))\n",
    "    \n",
    "    memory = model.encoder_embedding(src)\n",
    "    memory = model.positional_encoding(memory)\n",
    "    for enc_layer in model.encoder_layers:\n",
    "        memory = enc_layer(memory, src_mask)\n",
    "    \n",
    "    ys = torch.full((batch_size, 1), tokenizer_tgt.token_to_id(\"<sos>\"), dtype=torch.long, device=device)\n",
    "    scores = torch.zeros(batch_size, device=device)\n",
    "    beams = [(ys, scores)]\n",
    "    \n",
    "    for step in range(max_len):\n",
    "        new_beams = []\n",
    "        for ys, scores in beams:\n",
    "            tgt_mask = create_tgt_mask(ys, tokenizer_tgt.token_to_id(\"<pad>\"))\n",
    "            with torch.no_grad():\n",
    "                out = model.decoder_embedding(ys)\n",
    "                out = model.positional_encoding(out)\n",
    "                for dec_layer in model.decoder_layers:\n",
    "                    out = dec_layer(out, memory, src_mask, tgt_mask)\n",
    "                out = model.fc(out)\n",
    "                probs = torch.softmax(out[:, -1, :], dim=-1)\n",
    "                top_probs, top_idx = probs.topk(beam_size, dim=-1)\n",
    "                for k in range(beam_size):\n",
    "                    new_ys = torch.cat([ys, top_idx[:, k].unsqueeze(1)], dim=1)\n",
    "                    new_scores = scores + torch.log(top_probs[:, k])\n",
    "                    new_beams.append((new_ys, new_scores))\n",
    "        beams = sorted(new_beams, key=lambda x: x[1].sum(), reverse=True)[:beam_size]\n",
    "        last_tokens = beams[0][0][:, -1]\n",
    "        if (last_tokens == tokenizer_tgt.token_to_id(\"<eos>\")).all():\n",
    "            break\n",
    "    return beams[0][0]"
   ]
  },
  {
   "cell_type": "code",
   "execution_count": 16,
   "id": "359d83aa",
   "metadata": {
    "execution": {
     "iopub.execute_input": "2025-05-15T07:50:09.808031Z",
     "iopub.status.busy": "2025-05-15T07:50:09.807785Z",
     "iopub.status.idle": "2025-05-15T07:50:09.814918Z",
     "shell.execute_reply": "2025-05-15T07:50:09.814451Z"
    },
    "papermill": {
     "duration": 0.012239,
     "end_time": "2025-05-15T07:50:09.815866",
     "exception": false,
     "start_time": "2025-05-15T07:50:09.803627",
     "status": "completed"
    },
    "tags": []
   },
   "outputs": [],
   "source": [
    "# 12. Huấn luyện mô hình\n",
    "def train_model(model, train_loader, val_loader, tokenizer_src, tokenizer_tgt, epochs=5, direction=\"vi2lo\"):\n",
    "    optimizer = optim.AdamW(model.parameters(), lr=0.0001)\n",
    "    criterion = nn.CrossEntropyLoss(ignore_index=tokenizer_tgt.token_to_id(\"<pad>\"))\n",
    "    scaler = GradScaler('cuda')\n",
    "    \n",
    "    train_losses = []\n",
    "    val_losses = []\n",
    "    \n",
    "    best_val_loss = float('inf')\n",
    "    best_model_path = f\"best_model_{direction}.pt\"\n",
    "    \n",
    "    for epoch in range(epochs):\n",
    "        model.train()\n",
    "        total_train_loss = 0\n",
    "        start_time = time.time()\n",
    "        \n",
    "        for src, tgt in tqdm(train_loader, desc=f\"Epoch {epoch+1}/{epochs}\", leave=True):\n",
    "            src, tgt = src.to(device), tgt.to(device)\n",
    "            optimizer.zero_grad()\n",
    "            \n",
    "            src_mask = create_src_mask(src, tokenizer_src.token_to_id(\"<pad>\"))\n",
    "            tgt_mask = create_tgt_mask(tgt[:, :-1], tokenizer_tgt.token_to_id(\"<pad>\"))\n",
    "            \n",
    "            with autocast('cuda'):\n",
    "                output = model(src, tgt[:, :-1], src_mask, tgt_mask)\n",
    "                loss = criterion(output.view(-1, output.size(-1)), tgt[:, 1:].contiguous().view(-1))\n",
    "            \n",
    "            scaler.scale(loss).backward()\n",
    "            scaler.step(optimizer)\n",
    "            scaler.update()\n",
    "            total_train_loss += loss.item()\n",
    "        \n",
    "        avg_train_loss = total_train_loss / len(train_loader)\n",
    "        train_losses.append(avg_train_loss)\n",
    "        print(f\"Epoch {epoch+1}, Avg Train Loss: {avg_train_loss:.4f}, Time: {time.time()-start_time:.2f}s\")\n",
    "        \n",
    "        val_loss = evaluate_model(model, val_loader, tokenizer_src, tokenizer_tgt, direction, criterion, \"Dev\")\n",
    "        val_losses.append(val_loss)\n",
    "        print(f\"Epoch {epoch+1}, Avg Validation Loss: {val_loss:.4f}\")\n",
    "        \n",
    "        if val_loss < best_val_loss:\n",
    "            best_val_loss = val_loss\n",
    "            torch.save(model.state_dict(), best_model_path)\n",
    "            print(f\"Saved best model with validation loss: {best_val_loss:.4f}\")\n",
    "    \n",
    "    model.load_state_dict(torch.load(best_model_path))\n",
    "    print(f\"Loaded best model with validation loss: {best_val_loss:.4f}\")\n",
    "    \n",
    "    plot_losses(train_losses, val_losses, direction)"
   ]
  },
  {
   "cell_type": "code",
   "execution_count": 17,
   "id": "431d7060",
   "metadata": {
    "execution": {
     "iopub.execute_input": "2025-05-15T07:50:09.823770Z",
     "iopub.status.busy": "2025-05-15T07:50:09.823372Z",
     "iopub.status.idle": "2025-05-15T07:50:09.830210Z",
     "shell.execute_reply": "2025-05-15T07:50:09.829585Z"
    },
    "papermill": {
     "duration": 0.011778,
     "end_time": "2025-05-15T07:50:09.831196",
     "exception": false,
     "start_time": "2025-05-15T07:50:09.819418",
     "status": "completed"
    },
    "tags": []
   },
   "outputs": [],
   "source": [
    "# 13. Đánh giá mô hình\n",
    "def evaluate_model(model, test_loader, tokenizer_src, tokenizer_tgt, direction=\"vi2lo\", criterion=None, test_set_name=\"Test\"):\n",
    "    model.eval()\n",
    "    predictions, references = [], []\n",
    "    total_val_loss = 0\n",
    "    total_tokens = 0\n",
    "    start_time = time.time()\n",
    "    \n",
    "    with torch.no_grad():\n",
    "        for src, tgt in tqdm(test_loader, desc=f\"Evaluating on {test_set_name}\", leave=True):\n",
    "            src, tgt = src.to(device), tgt.to(device)\n",
    "            \n",
    "            if criterion is not None:\n",
    "                src_mask = create_src_mask(src, tokenizer_src.token_to_id(\"<pad>\"))\n",
    "                tgt_mask = create_tgt_mask(tgt[:, :-1], tokenizer_tgt.token_to_id(\"<pad>\"))\n",
    "                with autocast('cuda'):\n",
    "                    output = model(src, tgt[:, :-1], src_mask, tgt_mask)\n",
    "                    loss = criterion(output.view(-1, output.size(-1)), tgt[:, 1:].contiguous().view(-1))\n",
    "                total_val_loss += loss.item()\n",
    "            else:\n",
    "                pred_tokens = batch_beam_search(model, src, tokenizer_src, tokenizer_tgt)\n",
    "                for i in range(pred_tokens.size(0)):\n",
    "                    pred_text = tokenizer_tgt.decode(pred_tokens[i].cpu().numpy(), skip_special_tokens=True)\n",
    "                    ref_text = tokenizer_tgt.decode(tgt[i].cpu().numpy(), skip_special_tokens=True)\n",
    "                    predictions.append(pred_text)\n",
    "                    references.append([ref_text])\n",
    "                    total_tokens += len(pred_tokens[i])\n",
    "    \n",
    "    if criterion is not None:\n",
    "        avg_val_loss = total_val_loss / len(test_loader)\n",
    "        return avg_val_loss\n",
    "    \n",
    "    bleu = sacrebleu.corpus_bleu(predictions, references)\n",
    "    inference_time = time.time() - start_time\n",
    "    tokens_per_second = total_tokens / inference_time\n",
    "    print(f\"{test_set_name} - BLEU Score: {bleu.score:.2f}, Inference Time: {inference_time:.2f}s, Tokens/s: {tokens_per_second:.2f}\")"
   ]
  },
  {
   "cell_type": "code",
   "execution_count": 18,
   "id": "54e2cb48",
   "metadata": {
    "execution": {
     "iopub.execute_input": "2025-05-15T07:50:09.839193Z",
     "iopub.status.busy": "2025-05-15T07:50:09.838722Z",
     "iopub.status.idle": "2025-05-15T07:50:09.842883Z",
     "shell.execute_reply": "2025-05-15T07:50:09.842231Z"
    },
    "papermill": {
     "duration": 0.009251,
     "end_time": "2025-05-15T07:50:09.843981",
     "exception": false,
     "start_time": "2025-05-15T07:50:09.834730",
     "status": "completed"
    },
    "tags": []
   },
   "outputs": [],
   "source": [
    "# 14. Hàm vẽ biểu đồ loss\n",
    "def plot_losses(train_losses, val_losses, direction):\n",
    "    plt.figure(figsize=(8, 6))\n",
    "    plt.plot(range(1, len(train_losses) + 1), train_losses, 'b-', label='Training Loss')\n",
    "    plt.plot(range(1, len(val_losses) + 1), val_losses, 'r-', label='Validation Loss')\n",
    "    plt.title(f'Training and Validation Loss ({direction.upper()})')\n",
    "    plt.xlabel('Epoch')\n",
    "    plt.ylabel('Loss')\n",
    "    plt.grid(True)\n",
    "    plt.legend()\n",
    "    plt.savefig(f'loss_plot_{direction}.png')"
   ]
  },
  {
   "cell_type": "code",
   "execution_count": 19,
   "id": "fe68591e",
   "metadata": {
    "execution": {
     "iopub.execute_input": "2025-05-15T07:50:09.852023Z",
     "iopub.status.busy": "2025-05-15T07:50:09.851529Z",
     "iopub.status.idle": "2025-05-15T08:36:41.990687Z",
     "shell.execute_reply": "2025-05-15T08:36:41.990024Z"
    },
    "papermill": {
     "duration": 2792.144415,
     "end_time": "2025-05-15T08:36:41.991936",
     "exception": false,
     "start_time": "2025-05-15T07:50:09.847521",
     "status": "completed"
    },
    "tags": []
   },
   "outputs": [
    {
     "name": "stdout",
     "output_type": "stream",
     "text": [
      "Training Vietnamese to Lao...\n"
     ]
    },
    {
     "name": "stderr",
     "output_type": "stream",
     "text": [
      "Epoch 1/5: 100%|██████████| 3125/3125 [04:34<00:00, 11.37it/s]\n"
     ]
    },
    {
     "name": "stdout",
     "output_type": "stream",
     "text": [
      "Epoch 1, Avg Train Loss: 6.5437, Time: 274.89s\n"
     ]
    },
    {
     "name": "stderr",
     "output_type": "stream",
     "text": [
      "Evaluating on Dev: 100%|██████████| 63/63 [00:01<00:00, 31.96it/s]\n"
     ]
    },
    {
     "name": "stdout",
     "output_type": "stream",
     "text": [
      "Epoch 1, Avg Validation Loss: 6.5948\n",
      "Saved best model with validation loss: 6.5948\n"
     ]
    },
    {
     "name": "stderr",
     "output_type": "stream",
     "text": [
      "Epoch 2/5: 100%|██████████| 3125/3125 [04:37<00:00, 11.27it/s]\n"
     ]
    },
    {
     "name": "stdout",
     "output_type": "stream",
     "text": [
      "Epoch 2, Avg Train Loss: 5.5856, Time: 277.18s\n"
     ]
    },
    {
     "name": "stderr",
     "output_type": "stream",
     "text": [
      "Evaluating on Dev: 100%|██████████| 63/63 [00:01<00:00, 31.83it/s]\n"
     ]
    },
    {
     "name": "stdout",
     "output_type": "stream",
     "text": [
      "Epoch 2, Avg Validation Loss: 6.0002\n",
      "Saved best model with validation loss: 6.0002\n"
     ]
    },
    {
     "name": "stderr",
     "output_type": "stream",
     "text": [
      "Epoch 3/5: 100%|██████████| 3125/3125 [04:36<00:00, 11.30it/s]\n"
     ]
    },
    {
     "name": "stdout",
     "output_type": "stream",
     "text": [
      "Epoch 3, Avg Train Loss: 5.1063, Time: 276.59s\n"
     ]
    },
    {
     "name": "stderr",
     "output_type": "stream",
     "text": [
      "Evaluating on Dev: 100%|██████████| 63/63 [00:01<00:00, 31.76it/s]\n"
     ]
    },
    {
     "name": "stdout",
     "output_type": "stream",
     "text": [
      "Epoch 3, Avg Validation Loss: 5.6000\n",
      "Saved best model with validation loss: 5.6000\n"
     ]
    },
    {
     "name": "stderr",
     "output_type": "stream",
     "text": [
      "Epoch 4/5: 100%|██████████| 3125/3125 [04:36<00:00, 11.29it/s]\n"
     ]
    },
    {
     "name": "stdout",
     "output_type": "stream",
     "text": [
      "Epoch 4, Avg Train Loss: 4.7571, Time: 276.71s\n"
     ]
    },
    {
     "name": "stderr",
     "output_type": "stream",
     "text": [
      "Evaluating on Dev: 100%|██████████| 63/63 [00:01<00:00, 32.35it/s]\n"
     ]
    },
    {
     "name": "stdout",
     "output_type": "stream",
     "text": [
      "Epoch 4, Avg Validation Loss: 5.2837\n",
      "Saved best model with validation loss: 5.2837\n"
     ]
    },
    {
     "name": "stderr",
     "output_type": "stream",
     "text": [
      "Epoch 5/5: 100%|██████████| 3125/3125 [04:36<00:00, 11.32it/s]\n"
     ]
    },
    {
     "name": "stdout",
     "output_type": "stream",
     "text": [
      "Epoch 5, Avg Train Loss: 4.4697, Time: 276.14s\n"
     ]
    },
    {
     "name": "stderr",
     "output_type": "stream",
     "text": [
      "Evaluating on Dev: 100%|██████████| 63/63 [00:01<00:00, 32.09it/s]\n"
     ]
    },
    {
     "name": "stdout",
     "output_type": "stream",
     "text": [
      "Epoch 5, Avg Validation Loss: 5.0266\n",
      "Saved best model with validation loss: 5.0266\n",
      "Loaded best model with validation loss: 5.0266\n",
      "Training Lao to Vietnamese...\n"
     ]
    },
    {
     "name": "stderr",
     "output_type": "stream",
     "text": [
      "Epoch 1/5: 100%|██████████| 3125/3125 [04:36<00:00, 11.30it/s]\n"
     ]
    },
    {
     "name": "stdout",
     "output_type": "stream",
     "text": [
      "Epoch 1, Avg Train Loss: 5.9495, Time: 276.54s\n"
     ]
    },
    {
     "name": "stderr",
     "output_type": "stream",
     "text": [
      "Evaluating on Dev: 100%|██████████| 63/63 [00:01<00:00, 31.94it/s]\n"
     ]
    },
    {
     "name": "stdout",
     "output_type": "stream",
     "text": [
      "Epoch 1, Avg Validation Loss: 5.4941\n",
      "Saved best model with validation loss: 5.4941\n"
     ]
    },
    {
     "name": "stderr",
     "output_type": "stream",
     "text": [
      "Epoch 2/5: 100%|██████████| 3125/3125 [04:36<00:00, 11.29it/s]\n"
     ]
    },
    {
     "name": "stdout",
     "output_type": "stream",
     "text": [
      "Epoch 2, Avg Train Loss: 4.8744, Time: 276.73s\n"
     ]
    },
    {
     "name": "stderr",
     "output_type": "stream",
     "text": [
      "Evaluating on Dev: 100%|██████████| 63/63 [00:01<00:00, 32.16it/s]\n"
     ]
    },
    {
     "name": "stdout",
     "output_type": "stream",
     "text": [
      "Epoch 2, Avg Validation Loss: 4.9633\n",
      "Saved best model with validation loss: 4.9633\n"
     ]
    },
    {
     "name": "stderr",
     "output_type": "stream",
     "text": [
      "Epoch 3/5: 100%|██████████| 3125/3125 [04:36<00:00, 11.30it/s]\n"
     ]
    },
    {
     "name": "stdout",
     "output_type": "stream",
     "text": [
      "Epoch 3, Avg Train Loss: 4.4653, Time: 276.60s\n"
     ]
    },
    {
     "name": "stderr",
     "output_type": "stream",
     "text": [
      "Evaluating on Dev: 100%|██████████| 63/63 [00:01<00:00, 32.30it/s]\n"
     ]
    },
    {
     "name": "stdout",
     "output_type": "stream",
     "text": [
      "Epoch 3, Avg Validation Loss: 4.6399\n",
      "Saved best model with validation loss: 4.6399\n"
     ]
    },
    {
     "name": "stderr",
     "output_type": "stream",
     "text": [
      "Epoch 4/5: 100%|██████████| 3125/3125 [04:36<00:00, 11.30it/s]\n"
     ]
    },
    {
     "name": "stdout",
     "output_type": "stream",
     "text": [
      "Epoch 4, Avg Train Loss: 4.1892, Time: 276.49s\n"
     ]
    },
    {
     "name": "stderr",
     "output_type": "stream",
     "text": [
      "Evaluating on Dev: 100%|██████████| 63/63 [00:01<00:00, 31.93it/s]\n"
     ]
    },
    {
     "name": "stdout",
     "output_type": "stream",
     "text": [
      "Epoch 4, Avg Validation Loss: 4.4099\n",
      "Saved best model with validation loss: 4.4099\n"
     ]
    },
    {
     "name": "stderr",
     "output_type": "stream",
     "text": [
      "Epoch 5/5: 100%|██████████| 3125/3125 [04:36<00:00, 11.32it/s]\n"
     ]
    },
    {
     "name": "stdout",
     "output_type": "stream",
     "text": [
      "Epoch 5, Avg Train Loss: 3.9741, Time: 276.01s\n"
     ]
    },
    {
     "name": "stderr",
     "output_type": "stream",
     "text": [
      "Evaluating on Dev: 100%|██████████| 63/63 [00:01<00:00, 32.22it/s]\n"
     ]
    },
    {
     "name": "stdout",
     "output_type": "stream",
     "text": [
      "Epoch 5, Avg Validation Loss: 4.2296\n",
      "Saved best model with validation loss: 4.2296\n",
      "Loaded best model with validation loss: 4.2296\n"
     ]
    },
    {
     "data": {
      "image/png": "[encoded data removed]",
      "text/plain": [
       "<Figure size 800x600 with 1 Axes>"
      ]
     },
     "metadata": {},
     "output_type": "display_data"
    },
    {
     "data": {
      "image/png": "[encoded data removed]",
      "text/plain": [
       "<Figure size 800x600 with 1 Axes>"
      ]
     },
     "metadata": {},
     "output_type": "display_data"
    }
   ],
   "source": [
    "# 15. Khởi tạo và huấn luyện mô hình\n",
    "d_model = 256\n",
    "num_heads = 4\n",
    "num_layers = 6\n",
    "d_ff = 512\n",
    "max_len = 128\n",
    "dropout = 0.1\n",
    "\n",
    "# Mô hình cho Việt-Lào\n",
    "model_vi_to_lo = Transformer(tokenizer_vi.get_vocab_size(), tokenizer_lo.get_vocab_size(), d_model, num_heads, num_layers, d_ff, max_len, dropout).to(device)\n",
    "print(\"Training Vietnamese to Lao...\")\n",
    "train_model(model_vi_to_lo, train_loader_vi2lo, dev_loader_vi2lo, tokenizer_vi, tokenizer_lo, epochs=5, direction=\"vi2lo\")\n",
    "\n",
    "# Mô hình cho Lào-Việt\n",
    "model_lo_to_vi = Transformer(tokenizer_lo.get_vocab_size(), tokenizer_vi.get_vocab_size(), d_model, num_heads, num_layers, d_ff, max_len, dropout).to(device)\n",
    "print(\"Training Lao to Vietnamese...\")\n",
    "train_model(model_lo_to_vi, train_loader_lo2vi, dev_loader_lo2vi, tokenizer_lo, tokenizer_vi, epochs=5, direction=\"lo2vi\")"
   ]
  },
  {
   "cell_type": "code",
   "execution_count": 20,
   "id": "820d555a",
   "metadata": {
    "execution": {
     "iopub.execute_input": "2025-05-15T08:36:43.277959Z",
     "iopub.status.busy": "2025-05-15T08:36:43.277364Z",
     "iopub.status.idle": "2025-05-15T08:53:49.928348Z",
     "shell.execute_reply": "2025-05-15T08:53:49.927697Z"
    },
    "papermill": {
     "duration": 1027.261295,
     "end_time": "2025-05-15T08:53:49.929524",
     "exception": false,
     "start_time": "2025-05-15T08:36:42.668229",
     "status": "completed"
    },
    "tags": []
   },
   "outputs": [
    {
     "name": "stdout",
     "output_type": "stream",
     "text": [
      "Evaluating Vietnamese to Lao on Public Test Set...\n"
     ]
    },
    {
     "name": "stderr",
     "output_type": "stream",
     "text": [
      "Evaluating on Public Test Vi-Lo: 100%|██████████| 32/32 [03:56<00:00,  7.39s/it]\n"
     ]
    },
    {
     "name": "stdout",
     "output_type": "stream",
     "text": [
      "Public Test Vi-Lo - BLEU Score: 24.81, Inference Time: 236.69s, Tokens/s: 500.02\n",
      "Evaluating Vietnamese to Lao on Private Test Set (Vi-Lo)...\n"
     ]
    },
    {
     "name": "stderr",
     "output_type": "stream",
     "text": [
      "Evaluating on Private Test Vi-Lo: 100%|██████████| 32/32 [03:57<00:00,  7.41s/it]\n"
     ]
    },
    {
     "name": "stdout",
     "output_type": "stream",
     "text": [
      "Private Test Vi-Lo - BLEU Score: 24.81, Inference Time: 237.28s, Tokens/s: 498.79\n",
      "Evaluating Lao to Vietnamese on Public Test Set...\n"
     ]
    },
    {
     "name": "stderr",
     "output_type": "stream",
     "text": [
      "Evaluating on Public Test Lo-Vi: 100%|██████████| 32/32 [04:35<00:00,  8.62s/it]\n"
     ]
    },
    {
     "name": "stdout",
     "output_type": "stream",
     "text": [
      "Public Test Lo-Vi - BLEU Score: 18.58, Inference Time: 275.89s, Tokens/s: 467.59\n",
      "Evaluating Lao to Vietnamese on Private Test Set (Lo-Vi)...\n"
     ]
    },
    {
     "name": "stderr",
     "output_type": "stream",
     "text": [
      "Evaluating on Private Test Lo-Vi: 100%|██████████| 32/32 [04:36<00:00,  8.64s/it]\n"
     ]
    },
    {
     "name": "stdout",
     "output_type": "stream",
     "text": [
      "Private Test Lo-Vi - BLEU Score: 0.00, Inference Time: 276.66s, Tokens/s: 466.28\n"
     ]
    }
   ],
   "source": [
    "# 16. Đánh giá trên các tập test\n",
    "# Tập Test công khai\n",
    "test_data_public = load_parallel_data(\n",
    "    \"/kaggle/input/vlsp2023/VLSP2023/Test/public test/test_vi.txt\",\n",
    "    \"/kaggle/input/vlsp2023/VLSP2023/Test/public test/test_lo.txt\"\n",
    ")\n",
    "\n",
    "# Tập Test private Vi-Lo\n",
    "test_data_private_vilo = load_parallel_data(\n",
    "    \"/kaggle/input/vlsp2023/VLSP2023/Test/private test/vi-lo/test2023.vi\",\n",
    "    \"/kaggle/input/vlsp2023/VLSP2023/Test/private test/vi-lo/test2023.lo\"\n",
    ")\n",
    "\n",
    "# Tập Test private Lo-Vi\n",
    "test_data_private_lovi = load_parallel_data(\n",
    "    \"/kaggle/input/vlsp2023/VLSP2023/Test/private test/lo-vi/test2023.lo\",\n",
    "    \"/kaggle/input/vlsp2023/VLSP2023/Test/private test/lo-vi/test2023.vi\"\n",
    ")\n",
    "\n",
    "# Đánh giá Việt-Lào\n",
    "test_dataset_vi2lo_public = TranslationDataset(test_data_public, tokenizer_vi, tokenizer_lo, direction=\"vi2lo\")\n",
    "test_loader_vi2lo_public = DataLoader(test_dataset_vi2lo_public, batch_size=batch_size)\n",
    "print(\"Evaluating Vietnamese to Lao on Public Test Set...\")\n",
    "evaluate_model(model_vi_to_lo, test_loader_vi2lo_public, tokenizer_vi, tokenizer_lo, direction=\"vi2lo\", test_set_name=\"Public Test Vi-Lo\")\n",
    "\n",
    "test_dataset_vi2lo_private = TranslationDataset(test_data_private_vilo, tokenizer_vi, tokenizer_lo, direction=\"vi2lo\")\n",
    "test_loader_vi2lo_private = DataLoader(test_dataset_vi2lo_private, batch_size=batch_size)\n",
    "print(\"Evaluating Vietnamese to Lao on Private Test Set (Vi-Lo)...\")\n",
    "evaluate_model(model_vi_to_lo, test_loader_vi2lo_private, tokenizer_vi, tokenizer_lo, direction=\"vi2lo\", test_set_name=\"Private Test Vi-Lo\")\n",
    "\n",
    "# Đánh giá Lào-Việt\n",
    "test_dataset_lo2vi_public = TranslationDataset(test_data_public, tokenizer_lo, tokenizer_vi, direction=\"lo2vi\")\n",
    "test_loader_lo2vi_public = DataLoader(test_dataset_lo2vi_public, batch_size=batch_size)\n",
    "print(\"Evaluating Lao to Vietnamese on Public Test Set...\")\n",
    "evaluate_model(model_lo_to_vi, test_loader_lo2vi_public, tokenizer_lo, tokenizer_vi, direction=\"lo2vi\", test_set_name=\"Public Test Lo-Vi\")\n",
    "\n",
    "test_dataset_lo2vi_private = TranslationDataset(test_data_private_lovi, tokenizer_lo, tokenizer_vi, direction=\"lo2vi\")\n",
    "test_loader_lo2vi_private = DataLoader(test_dataset_lo2vi_private, batch_size=batch_size)\n",
    "print(\"Evaluating Lao to Vietnamese on Private Test Set (Lo-Vi)...\")\n",
    "evaluate_model(model_lo_to_vi, test_loader_lo2vi_private, tokenizer_lo, tokenizer_vi, direction=\"lo2vi\", test_set_name=\"Private Test Lo-Vi\")"
   ]
  },
  {
   "cell_type": "code",
   "execution_count": 21,
   "id": "afac4cda",
   "metadata": {
    "execution": {
     "iopub.execute_input": "2025-05-15T08:53:51.223890Z",
     "iopub.status.busy": "2025-05-15T08:53:51.223147Z",
     "iopub.status.idle": "2025-05-15T08:53:51.226496Z",
     "shell.execute_reply": "2025-05-15T08:53:51.225925Z"
    },
    "papermill": {
     "duration": 0.68898,
     "end_time": "2025-05-15T08:53:51.227564",
     "exception": false,
     "start_time": "2025-05-15T08:53:50.538584",
     "status": "completed"
    },
    "tags": []
   },
   "outputs": [],
   "source": [
    "# print(\"First 10 pairs in test_data_private_lovi:\")\n",
    "# for i in range(10):\n",
    "#     print(f\"Lo: {test_data_private_lovi[i][0]}\")\n",
    "#     print(f\"Vi: {test_data_private_lovi[i][1]}\")"
   ]
  }
 ],
 "metadata": {
  "kaggle": {
   "accelerator": "nvidiaTeslaT4",
   "dataSources": [
    {
     "datasetId": 7409202,
     "sourceId": 11798596,
     "sourceType": "datasetVersion"
    }
   ],
   "dockerImageVersionId": 31041,
   "isGpuEnabled": true,
   "isInternetEnabled": true,
   "language": "python",
   "sourceType": "notebook"
  },
  "kernelspec": {
   "display_name": "Python 3",
   "language": "python",
   "name": "python3"
  },
  "language_info": {
   "codemirror_mode": {
    "name": "ipython",
    "version": 3
   },
   "file_extension": ".py",
   "mimetype": "text/x-python",
   "name": "python",
   "nbconvert_exporter": "python",
   "pygments_lexer": "ipython3",
   "version": "3.11.11"
  },
  "papermill": {
   "default_parameters": {},
   "duration": 3851.2385,
   "end_time": "2025-05-15T08:53:54.665845",
   "environment_variables": {},
   "exception": null,
   "input_path": "__notebook__.ipynb",
   "output_path": "__notebook__.ipynb",
   "parameters": {},
   "start_time": "2025-05-15T07:49:43.427345",
   "version": "2.6.0"
  }
 },
 "nbformat": 4,
 "nbformat_minor": 5
}
